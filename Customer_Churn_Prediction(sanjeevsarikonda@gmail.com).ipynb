{
 "cells": [
  {
   "cell_type": "markdown",
   "metadata": {
    "id": "0wggJ3aIkPZP"
   },
   "source": [
    "# Importing Libraries"
   ]
  },
  {
   "cell_type": "code",
   "execution_count": 4,
   "metadata": {
    "colab": {
     "base_uri": "https://localhost:8080/",
     "height": 465
    },
    "id": "lP9Z6XtPi47-",
    "outputId": "1606cd41-ee88-4510-fea5-04460105217d"
   },
   "outputs": [
    {
     "name": "stdout",
     "output_type": "stream",
     "text": [
      "Collecting pyspark\n",
      "  Downloading pyspark-3.2.1.tar.gz (281.4 MB)\n",
      "\u001b[K     |████████████████████████████████| 281.4 MB 28 kB/s \n",
      "\u001b[?25hCollecting py4j==0.10.9.3\n",
      "  Downloading py4j-0.10.9.3-py2.py3-none-any.whl (198 kB)\n",
      "\u001b[K     |████████████████████████████████| 198 kB 43.3 MB/s \n",
      "\u001b[?25hBuilding wheels for collected packages: pyspark\n",
      "  Building wheel for pyspark (setup.py) ... \u001b[?25l\u001b[?25hdone\n",
      "  Created wheel for pyspark: filename=pyspark-3.2.1-py2.py3-none-any.whl size=281853642 sha256=0f543803e6d33d3687db31c373c82f78aaec25a0dafc266dab9cd41856196948\n",
      "  Stored in directory: /root/.cache/pip/wheels/9f/f5/07/7cd8017084dce4e93e84e92efd1e1d5334db05f2e83bcef74f\n",
      "Successfully built pyspark\n",
      "Installing collected packages: py4j, pyspark\n",
      "Successfully installed py4j-0.10.9.3 pyspark-3.2.1\n"
     ]
    },
    {
     "data": {
      "text/html": [
       "\n",
       "            <div>\n",
       "                <p><b>SparkSession - in-memory</b></p>\n",
       "                \n",
       "        <div>\n",
       "            <p><b>SparkContext</b></p>\n",
       "\n",
       "            <p><a href=\"http://e1b22ed674b4:4040\">Spark UI</a></p>\n",
       "\n",
       "            <dl>\n",
       "              <dt>Version</dt>\n",
       "                <dd><code>v3.2.1</code></dd>\n",
       "              <dt>Master</dt>\n",
       "                <dd><code>local</code></dd>\n",
       "              <dt>AppName</dt>\n",
       "                <dd><code>Churn_Prediction_for_Telecom_Company</code></dd>\n",
       "            </dl>\n",
       "        </div>\n",
       "        \n",
       "            </div>\n",
       "        "
      ],
      "text/plain": [
       "<pyspark.sql.session.SparkSession at 0x7f5ab654b1d0>"
      ]
     },
     "execution_count": 4,
     "metadata": {},
     "output_type": "execute_result"
    }
   ],
   "source": [
    "!pip install pyspark\n",
    "\n",
    "!apt-get install openjdk-8-jdk-headless -qq > /dev/null\n",
    "\n",
    "!wget -q https://dlcdn.apache.org/spark/spark-3.2.1/spark-3.2.1-bin-hadoop2.7.tgz\n",
    "!tar xf spark-3.2.1-bin-hadoop2.7.tgz\n",
    "\n",
    "!pip install -q findspark\n",
    "\n",
    "import os\n",
    "os.environ[\"JAVA_HOME\"] = \"/usr/lib/jvm/java-8-openjdk-amd64\"\n",
    "os.environ[\"SPARK_HOME\"] = \"/content/spark-3.2.1-bin-hadoop2.7\"\n",
    "\n",
    "from pyspark.sql import functions as F\n",
    "import pandas as pd\n",
    "import matplotlib.pyplot as plt\n",
    "import seaborn as sns\n",
    "\n",
    "from pyspark.sql.window import Window\n",
    "# from pyspark.sql.functions import * #lot of functions available here\n",
    "from pyspark.sql.types import IntegerType, StringType\n",
    "from pyspark.ml.feature import StringIndexer, OneHotEncoder, VectorAssembler\n",
    "from pyspark.sql.functions import col, log, isnan, count\n",
    "from pyspark.ml.feature import Imputer\n",
    "from pyspark.ml.classification import RandomForestClassifier\n",
    "from pyspark.ml.evaluation import MulticlassClassificationEvaluator, BinaryClassificationEvaluator\n",
    "from pyspark.ml import Pipeline\n",
    "\n",
    "import warnings\n",
    "warnings.simplefilter(action='ignore')\n",
    "from pyspark.sql.types import *\n",
    "\n",
    "from pyspark.sql import SparkSession\n",
    "spark = SparkSession.builder.master(\"local\").appName(\"Churn_Prediction_for_Telecom_Company\").getOrCreate()\n",
    "spark"
   ]
  },
  {
   "cell_type": "code",
   "execution_count": 4,
   "metadata": {
    "id": "ZWCzQX6FkXiz"
   },
   "outputs": [],
   "source": []
  },
  {
   "cell_type": "markdown",
   "metadata": {
    "id": "R58ItX0qlZNA"
   },
   "source": [
    "# Importing the data"
   ]
  },
  {
   "cell_type": "code",
   "execution_count": 5,
   "metadata": {
    "colab": {
     "base_uri": "https://localhost:8080/"
    },
    "id": "L-ncNpTEnNRQ",
    "outputId": "5a114278-58e3-4ca7-dfe3-56b87bb6d79c"
   },
   "outputs": [
    {
     "name": "stdout",
     "output_type": "stream",
     "text": [
      "+-----+--------------+---------+------------+------------------+---------------+---------------------+-----------------+---------------+----------------+-----------------+---------------+----------------+-------------------+-----------------+------------------+------------------+----------------+-----------------+----------------------+-----+\n",
      "|state|account length|area code|phone number|international plan|voice mail plan|number vmail messages|total day minutes|total day calls|total day charge|total eve minutes|total eve calls|total eve charge|total night minutes|total night calls|total night charge|total intl minutes|total intl calls|total intl charge|customer service calls|churn|\n",
      "+-----+--------------+---------+------------+------------------+---------------+---------------------+-----------------+---------------+----------------+-----------------+---------------+----------------+-------------------+-----------------+------------------+------------------+----------------+-----------------+----------------------+-----+\n",
      "|KS   |128           |415      |382-4657    |no                |yes            |25                   |265.1            |110            |45.07           |197.4            |99             |16.78           |244.7              |91               |11.01             |10.0              |3               |2.7              |1                     |false|\n",
      "|OH   |107           |415      |371-7191    |no                |yes            |26                   |161.6            |123            |27.47           |195.5            |103            |16.62           |254.4              |103              |11.45             |13.7              |3               |3.7              |1                     |false|\n",
      "|NJ   |137           |415      |358-1921    |no                |no             |0                    |243.4            |114            |41.38           |121.2            |110            |10.3            |162.6              |104              |7.32              |12.2              |5               |3.29             |0                     |false|\n",
      "|OH   |84            |408      |375-9999    |yes               |no             |0                    |299.4            |71             |50.9            |61.9             |88             |5.26            |196.9              |89               |8.86              |6.6               |7               |1.78             |2                     |false|\n",
      "|OK   |75            |415      |330-6626    |yes               |no             |0                    |166.7            |113            |28.34           |148.3            |122            |12.61           |186.9              |121              |8.41              |10.1              |3               |2.73             |3                     |false|\n",
      "+-----+--------------+---------+------------+------------------+---------------+---------------------+-----------------+---------------+----------------+-----------------+---------------+----------------+-------------------+-----------------+------------------+------------------+----------------+-----------------+----------------------+-----+\n",
      "only showing top 5 rows\n",
      "\n"
     ]
    }
   ],
   "source": [
    "#Loading the dataset\n",
    "df = spark.read.csv('/content/drive/MyDrive/churn.csv', header = True, inferSchema = True)\n",
    "df.show(5, truncate = False)"
   ]
  },
  {
   "cell_type": "code",
   "execution_count": 6,
   "metadata": {
    "colab": {
     "base_uri": "https://localhost:8080/"
    },
    "id": "0f82YtfvnNUr",
    "outputId": "58d2871a-4bc8-40b3-c662-eea462d76b52"
   },
   "outputs": [
    {
     "name": "stdout",
     "output_type": "stream",
     "text": [
      "+-----+--------------+---------+------------+------------------+---------------+---------------------+-----------------+---------------+----------------+-----------------+---------------+----------------+-------------------+-----------------+------------------+------------------+----------------+-----------------+----------------------+-----+\n",
      "|state|account_length|area_code|phone_number|international_plan|voice_mail_plan|number_vmail_messages|total_day_minutes|total_day_calls|total_day_charge|total_eve_minutes|total_eve_calls|total_eve_charge|total_night_minutes|total_night_calls|total_night_charge|total_intl_minutes|total_intl_calls|total_intl_charge|customer_service_calls|churn|\n",
      "+-----+--------------+---------+------------+------------------+---------------+---------------------+-----------------+---------------+----------------+-----------------+---------------+----------------+-------------------+-----------------+------------------+------------------+----------------+-----------------+----------------------+-----+\n",
      "|   KS|           128|      415|    382-4657|                no|            yes|                   25|            265.1|            110|           45.07|            197.4|             99|           16.78|              244.7|               91|             11.01|              10.0|               3|              2.7|                     1|false|\n",
      "|   OH|           107|      415|    371-7191|                no|            yes|                   26|            161.6|            123|           27.47|            195.5|            103|           16.62|              254.4|              103|             11.45|              13.7|               3|              3.7|                     1|false|\n",
      "|   NJ|           137|      415|    358-1921|                no|             no|                    0|            243.4|            114|           41.38|            121.2|            110|            10.3|              162.6|              104|              7.32|              12.2|               5|             3.29|                     0|false|\n",
      "|   OH|            84|      408|    375-9999|               yes|             no|                    0|            299.4|             71|            50.9|             61.9|             88|            5.26|              196.9|               89|              8.86|               6.6|               7|             1.78|                     2|false|\n",
      "|   OK|            75|      415|    330-6626|               yes|             no|                    0|            166.7|            113|           28.34|            148.3|            122|           12.61|              186.9|              121|              8.41|              10.1|               3|             2.73|                     3|false|\n",
      "|   AL|           118|      510|    391-8027|               yes|             no|                    0|            223.4|             98|           37.98|            220.6|            101|           18.75|              203.9|              118|              9.18|               6.3|               6|              1.7|                     0|false|\n",
      "|   MA|           121|      510|    355-9993|                no|            yes|                   24|            218.2|             88|           37.09|            348.5|            108|           29.62|              212.6|              118|              9.57|               7.5|               7|             2.03|                     3|false|\n",
      "|   MO|           147|      415|    329-9001|               yes|             no|                    0|            157.0|             79|           26.69|            103.1|             94|            8.76|              211.8|               96|              9.53|               7.1|               6|             1.92|                     0|false|\n",
      "|   LA|           117|      408|    335-4719|                no|             no|                    0|            184.5|             97|           31.37|            351.6|             80|           29.89|              215.8|               90|              9.71|               8.7|               4|             2.35|                     1|false|\n",
      "|   WV|           141|      415|    330-8173|               yes|            yes|                   37|            258.6|             84|           43.96|            222.0|            111|           18.87|              326.4|               97|             14.69|              11.2|               5|             3.02|                     0|false|\n",
      "+-----+--------------+---------+------------+------------------+---------------+---------------------+-----------------+---------------+----------------+-----------------+---------------+----------------+-------------------+-----------------+------------------+------------------+----------------+-----------------+----------------------+-----+\n",
      "only showing top 10 rows\n",
      "\n"
     ]
    }
   ],
   "source": [
    " df = df.select([F.col(col).alias(col.replace(' ', '_')) for col in df.columns])\n",
    " df.show(10)"
   ]
  },
  {
   "cell_type": "code",
   "execution_count": 7,
   "metadata": {
    "id": "xl_9i1NhnNXd"
   },
   "outputs": [],
   "source": [
    "df = df.drop('account_length','phone_number')"
   ]
  },
  {
   "cell_type": "code",
   "execution_count": 8,
   "metadata": {
    "colab": {
     "base_uri": "https://localhost:8080/"
    },
    "id": "FJse6QxznNa6",
    "outputId": "716f33a0-c508-451f-c006-62699dbf2f80"
   },
   "outputs": [
    {
     "name": "stdout",
     "output_type": "stream",
     "text": [
      "+-----+---------+------------------+---------------+---------------------+-----------------+---------------+----------------+-----------------+---------------+----------------+-------------------+-----------------+------------------+------------------+----------------+-----------------+----------------------+-----+\n",
      "|state|area_code|international_plan|voice_mail_plan|number_vmail_messages|total_day_minutes|total_day_calls|total_day_charge|total_eve_minutes|total_eve_calls|total_eve_charge|total_night_minutes|total_night_calls|total_night_charge|total_intl_minutes|total_intl_calls|total_intl_charge|customer_service_calls|churn|\n",
      "+-----+---------+------------------+---------------+---------------------+-----------------+---------------+----------------+-----------------+---------------+----------------+-------------------+-----------------+------------------+------------------+----------------+-----------------+----------------------+-----+\n",
      "|   KS|      415|                no|            yes|                   25|            265.1|            110|           45.07|            197.4|             99|           16.78|              244.7|               91|             11.01|              10.0|               3|              2.7|                     1|false|\n",
      "|   OH|      415|                no|            yes|                   26|            161.6|            123|           27.47|            195.5|            103|           16.62|              254.4|              103|             11.45|              13.7|               3|              3.7|                     1|false|\n",
      "|   NJ|      415|                no|             no|                    0|            243.4|            114|           41.38|            121.2|            110|            10.3|              162.6|              104|              7.32|              12.2|               5|             3.29|                     0|false|\n",
      "|   OH|      408|               yes|             no|                    0|            299.4|             71|            50.9|             61.9|             88|            5.26|              196.9|               89|              8.86|               6.6|               7|             1.78|                     2|false|\n",
      "|   OK|      415|               yes|             no|                    0|            166.7|            113|           28.34|            148.3|            122|           12.61|              186.9|              121|              8.41|              10.1|               3|             2.73|                     3|false|\n",
      "|   AL|      510|               yes|             no|                    0|            223.4|             98|           37.98|            220.6|            101|           18.75|              203.9|              118|              9.18|               6.3|               6|              1.7|                     0|false|\n",
      "|   MA|      510|                no|            yes|                   24|            218.2|             88|           37.09|            348.5|            108|           29.62|              212.6|              118|              9.57|               7.5|               7|             2.03|                     3|false|\n",
      "|   MO|      415|               yes|             no|                    0|            157.0|             79|           26.69|            103.1|             94|            8.76|              211.8|               96|              9.53|               7.1|               6|             1.92|                     0|false|\n",
      "|   LA|      408|                no|             no|                    0|            184.5|             97|           31.37|            351.6|             80|           29.89|              215.8|               90|              9.71|               8.7|               4|             2.35|                     1|false|\n",
      "|   WV|      415|               yes|            yes|                   37|            258.6|             84|           43.96|            222.0|            111|           18.87|              326.4|               97|             14.69|              11.2|               5|             3.02|                     0|false|\n",
      "+-----+---------+------------------+---------------+---------------------+-----------------+---------------+----------------+-----------------+---------------+----------------+-------------------+-----------------+------------------+------------------+----------------+-----------------+----------------------+-----+\n",
      "only showing top 10 rows\n",
      "\n"
     ]
    }
   ],
   "source": [
    "df.show(10)"
   ]
  },
  {
   "cell_type": "markdown",
   "metadata": {
    "id": "uwLhvaC7EGOu"
   },
   "source": [
    "# Visualizing the data"
   ]
  },
  {
   "cell_type": "code",
   "execution_count": 9,
   "metadata": {
    "colab": {
     "base_uri": "https://localhost:8080/",
     "height": 1000
    },
    "id": "bHp403w5nNeb",
    "outputId": "5c6419ea-75e1-4aab-9492-81c9b83ca141"
   },
   "outputs": [
    {
     "data": {
      "image/png": "[encoded data removed]",
      "text/plain": [
       "<Figure size 432x288 with 1 Axes>"
      ]
     },
     "metadata": {
      "needs_background": "light"
     },
     "output_type": "display_data"
    },
    {
     "data": {
      "image/png": "[encoded data removed]",
      "text/plain": [
       "<Figure size 432x288 with 1 Axes>"
      ]
     },
     "metadata": {
      "needs_background": "light"
     },
     "output_type": "display_data"
    },
    {
     "data": {
      "image/png": "[encoded data removed]",
      "text/plain": [
       "<Figure size 432x288 with 1 Axes>"
      ]
     },
     "metadata": {
      "needs_background": "light"
     },
     "output_type": "display_data"
    },
    {
     "data": {
      "image/png": "[encoded data removed]",
      "text/plain": [
       "<Figure size 432x288 with 1 Axes>"
      ]
     },
     "metadata": {
      "needs_background": "light"
     },
     "output_type": "display_data"
    },
    {
     "data": {
      "image/png": "[encoded data removed]",
      "text/plain": [
       "<Figure size 432x288 with 1 Axes>"
      ]
     },
     "metadata": {
      "needs_background": "light"
     },
     "output_type": "display_data"
    },
    {
     "data": {
      "image/png": "[encoded data removed]",
      "text/plain": [
       "<Figure size 432x288 with 1 Axes>"
      ]
     },
     "metadata": {
      "needs_background": "light"
     },
     "output_type": "display_data"
    },
    {
     "data": {
      "image/png": "[encoded data removed]",
      "text/plain": [
       "<Figure size 432x288 with 1 Axes>"
      ]
     },
     "metadata": {
      "needs_background": "light"
     },
     "output_type": "display_data"
    },
    {
     "data": {
      "image/png": "[encoded data removed]",
      "text/plain": [
       "<Figure size 432x288 with 1 Axes>"
      ]
     },
     "metadata": {
      "needs_background": "light"
     },
     "output_type": "display_data"
    },
    {
     "data": {
      "image/png": "[encoded data removed]",
      "text/plain": [
       "<Figure size 432x288 with 1 Axes>"
      ]
     },
     "metadata": {
      "needs_background": "light"
     },
     "output_type": "display_data"
    },
    {
     "data": {
      "image/png": "[encoded data removed]",
      "text/plain": [
       "<Figure size 432x288 with 1 Axes>"
      ]
     },
     "metadata": {
      "needs_background": "light"
     },
     "output_type": "display_data"
    },
    {
     "data": {
      "image/png": "[encoded data removed]",
      "text/plain": [
       "<Figure size 432x288 with 1 Axes>"
      ]
     },
     "metadata": {
      "needs_background": "light"
     },
     "output_type": "display_data"
    },
    {
     "data": {
      "image/png": "[encoded data removed]",
      "text/plain": [
       "<Figure size 432x288 with 1 Axes>"
      ]
     },
     "metadata": {
      "needs_background": "light"
     },
     "output_type": "display_data"
    },
    {
     "data": {
      "image/png": "[encoded data removed]",
      "text/plain": [
       "<Figure size 432x288 with 1 Axes>"
      ]
     },
     "metadata": {
      "needs_background": "light"
     },
     "output_type": "display_data"
    },
    {
     "data": {
      "image/png": "[encoded data removed]",
      "text/plain": [
       "<Figure size 432x288 with 1 Axes>"
      ]
     },
     "metadata": {
      "needs_background": "light"
     },
     "output_type": "display_data"
    },
    {
     "data": {
      "image/png": "[encoded data removed]",
      "text/plain": [
       "<Figure size 432x288 with 1 Axes>"
      ]
     },
     "metadata": {
      "needs_background": "light"
     },
     "output_type": "display_data"
    },
    {
     "data": {
      "image/png": "[encoded data removed]",
      "text/plain": [
       "<Figure size 432x288 with 1 Axes>"
      ]
     },
     "metadata": {
      "needs_background": "light"
     },
     "output_type": "display_data"
    }
   ],
   "source": [
    "data2 = df.toPandas()\n",
    "\n",
    "for col in data2.columns:\n",
    "  try:\n",
    "    sns.regplot(x= col, y= 'churn', data= data2 )\n",
    "    plt.show()\n",
    "  except:\n",
    "    pass"
   ]
  },
  {
   "cell_type": "markdown",
   "metadata": {
    "id": "MmY0cZe1-DpB"
   },
   "source": [
    "With the above visualizations, we can conclude that \"State\" and \"area_code\" have the least relationship with Churn of a customer."
   ]
  },
  {
   "cell_type": "code",
   "execution_count": 10,
   "metadata": {
    "id": "ZcPD1gEHnNhF"
   },
   "outputs": [],
   "source": [
    "df = df.drop('State','area_code')"
   ]
  },
  {
   "cell_type": "markdown",
   "metadata": {
    "id": "rr_w_oRiMzBv"
   },
   "source": [
    "# Data Preparation"
   ]
  },
  {
   "cell_type": "markdown",
   "metadata": {
    "id": "YrdBPnZTM2nm"
   },
   "source": [
    "## Encoding"
   ]
  },
  {
   "cell_type": "code",
   "execution_count": 11,
   "metadata": {
    "colab": {
     "base_uri": "https://localhost:8080/"
    },
    "id": "vDpZo0LRnNpG",
    "outputId": "d7278cc9-598a-4c02-cf31-a4bd42444871"
   },
   "outputs": [
    {
     "name": "stdout",
     "output_type": "stream",
     "text": [
      "+------------------+---------------+---------------------+-----------------+---------------+----------------+-----------------+---------------+----------------+-------------------+-----------------+------------------+------------------+----------------+-----------------+----------------------+-----+\n",
      "|international_plan|voice_mail_plan|number_vmail_messages|total_day_minutes|total_day_calls|total_day_charge|total_eve_minutes|total_eve_calls|total_eve_charge|total_night_minutes|total_night_calls|total_night_charge|total_intl_minutes|total_intl_calls|total_intl_charge|customer_service_calls|churn|\n",
      "+------------------+---------------+---------------------+-----------------+---------------+----------------+-----------------+---------------+----------------+-------------------+-----------------+------------------+------------------+----------------+-----------------+----------------------+-----+\n",
      "|                no|            yes|                   25|            265.1|            110|           45.07|            197.4|             99|           16.78|              244.7|               91|             11.01|              10.0|               3|              2.7|                     1|false|\n",
      "|                no|            yes|                   26|            161.6|            123|           27.47|            195.5|            103|           16.62|              254.4|              103|             11.45|              13.7|               3|              3.7|                     1|false|\n",
      "|                no|             no|                    0|            243.4|            114|           41.38|            121.2|            110|            10.3|              162.6|              104|              7.32|              12.2|               5|             3.29|                     0|false|\n",
      "|               yes|             no|                    0|            299.4|             71|            50.9|             61.9|             88|            5.26|              196.9|               89|              8.86|               6.6|               7|             1.78|                     2|false|\n",
      "|               yes|             no|                    0|            166.7|            113|           28.34|            148.3|            122|           12.61|              186.9|              121|              8.41|              10.1|               3|             2.73|                     3|false|\n",
      "|               yes|             no|                    0|            223.4|             98|           37.98|            220.6|            101|           18.75|              203.9|              118|              9.18|               6.3|               6|              1.7|                     0|false|\n",
      "|                no|            yes|                   24|            218.2|             88|           37.09|            348.5|            108|           29.62|              212.6|              118|              9.57|               7.5|               7|             2.03|                     3|false|\n",
      "|               yes|             no|                    0|            157.0|             79|           26.69|            103.1|             94|            8.76|              211.8|               96|              9.53|               7.1|               6|             1.92|                     0|false|\n",
      "|                no|             no|                    0|            184.5|             97|           31.37|            351.6|             80|           29.89|              215.8|               90|              9.71|               8.7|               4|             2.35|                     1|false|\n",
      "|               yes|            yes|                   37|            258.6|             84|           43.96|            222.0|            111|           18.87|              326.4|               97|             14.69|              11.2|               5|             3.02|                     0|false|\n",
      "+------------------+---------------+---------------------+-----------------+---------------+----------------+-----------------+---------------+----------------+-------------------+-----------------+------------------+------------------+----------------+-----------------+----------------------+-----+\n",
      "only showing top 10 rows\n",
      "\n"
     ]
    }
   ],
   "source": [
    "df.show(10)"
   ]
  },
  {
   "cell_type": "code",
   "execution_count": 12,
   "metadata": {
    "id": "0mU8gW_BNYJ-"
   },
   "outputs": [],
   "source": [
    "input_col = ['international_plan','voice_mail_plan']\n",
    "out_col = ['indexed_international_plan','indexed_voice_mail_plan']"
   ]
  },
  {
   "cell_type": "code",
   "execution_count": 13,
   "metadata": {
    "colab": {
     "base_uri": "https://localhost:8080/"
    },
    "id": "47Jf1ltKNWtf",
    "outputId": "a47f0904-3b95-4fda-df90-ab0243b2db67"
   },
   "outputs": [
    {
     "name": "stdout",
     "output_type": "stream",
     "text": [
      "+------------------+---------------+---------------------+-----------------+---------------+----------------+-----------------+---------------+----------------+-------------------+-----------------+------------------+------------------+----------------+-----------------+----------------------+-----+--------------------------+-----------------------+\n",
      "|international_plan|voice_mail_plan|number_vmail_messages|total_day_minutes|total_day_calls|total_day_charge|total_eve_minutes|total_eve_calls|total_eve_charge|total_night_minutes|total_night_calls|total_night_charge|total_intl_minutes|total_intl_calls|total_intl_charge|customer_service_calls|churn|indexed_international_plan|indexed_voice_mail_plan|\n",
      "+------------------+---------------+---------------------+-----------------+---------------+----------------+-----------------+---------------+----------------+-------------------+-----------------+------------------+------------------+----------------+-----------------+----------------------+-----+--------------------------+-----------------------+\n",
      "|                no|            yes|                   25|            265.1|            110|           45.07|            197.4|             99|           16.78|              244.7|               91|             11.01|              10.0|               3|              2.7|                     1|false|                       0.0|                    1.0|\n",
      "|                no|            yes|                   26|            161.6|            123|           27.47|            195.5|            103|           16.62|              254.4|              103|             11.45|              13.7|               3|              3.7|                     1|false|                       0.0|                    1.0|\n",
      "|                no|             no|                    0|            243.4|            114|           41.38|            121.2|            110|            10.3|              162.6|              104|              7.32|              12.2|               5|             3.29|                     0|false|                       0.0|                    0.0|\n",
      "|               yes|             no|                    0|            299.4|             71|            50.9|             61.9|             88|            5.26|              196.9|               89|              8.86|               6.6|               7|             1.78|                     2|false|                       1.0|                    0.0|\n",
      "|               yes|             no|                    0|            166.7|            113|           28.34|            148.3|            122|           12.61|              186.9|              121|              8.41|              10.1|               3|             2.73|                     3|false|                       1.0|                    0.0|\n",
      "|               yes|             no|                    0|            223.4|             98|           37.98|            220.6|            101|           18.75|              203.9|              118|              9.18|               6.3|               6|              1.7|                     0|false|                       1.0|                    0.0|\n",
      "|                no|            yes|                   24|            218.2|             88|           37.09|            348.5|            108|           29.62|              212.6|              118|              9.57|               7.5|               7|             2.03|                     3|false|                       0.0|                    1.0|\n",
      "|               yes|             no|                    0|            157.0|             79|           26.69|            103.1|             94|            8.76|              211.8|               96|              9.53|               7.1|               6|             1.92|                     0|false|                       1.0|                    0.0|\n",
      "|                no|             no|                    0|            184.5|             97|           31.37|            351.6|             80|           29.89|              215.8|               90|              9.71|               8.7|               4|             2.35|                     1|false|                       0.0|                    0.0|\n",
      "|               yes|            yes|                   37|            258.6|             84|           43.96|            222.0|            111|           18.87|              326.4|               97|             14.69|              11.2|               5|             3.02|                     0|false|                       1.0|                    1.0|\n",
      "+------------------+---------------+---------------------+-----------------+---------------+----------------+-----------------+---------------+----------------+-------------------+-----------------+------------------+------------------+----------------+-----------------+----------------------+-----+--------------------------+-----------------------+\n",
      "only showing top 10 rows\n",
      "\n"
     ]
    }
   ],
   "source": [
    "indexer = StringIndexer(inputCols=input_col, outputCols=out_col) \n",
    "df = indexer.fit(df).transform(df) \n",
    "df.show(10)"
   ]
  },
  {
   "cell_type": "code",
   "execution_count": 14,
   "metadata": {
    "colab": {
     "base_uri": "https://localhost:8080/"
    },
    "id": "H-n-FlZ-nNrg",
    "outputId": "c8601401-5243-4328-bd45-d41d7144d06e"
   },
   "outputs": [
    {
     "name": "stdout",
     "output_type": "stream",
     "text": [
      "international_plan 2 Indexed_international_plan 2\n"
     ]
    }
   ],
   "source": [
    "print('international_plan',df.select('international_plan').distinct().count(), 'Indexed_international_plan',df.select('Indexed_international_plan').distinct().count())"
   ]
  },
  {
   "cell_type": "code",
   "execution_count": 15,
   "metadata": {
    "colab": {
     "base_uri": "https://localhost:8080/"
    },
    "id": "Dl_0aolKnNu2",
    "outputId": "8b577605-9719-421a-99c0-f6a0796d1517"
   },
   "outputs": [
    {
     "name": "stdout",
     "output_type": "stream",
     "text": [
      "voice_mail_plan 2 indexed_voice_mail_plan 2\n"
     ]
    }
   ],
   "source": [
    "print('voice_mail_plan',df.select('voice_mail_plan').distinct().count(), 'indexed_voice_mail_plan',df.select('indexed_voice_mail_plan').distinct().count())"
   ]
  },
  {
   "cell_type": "code",
   "execution_count": 16,
   "metadata": {
    "colab": {
     "base_uri": "https://localhost:8080/"
    },
    "id": "rCuKnAKoOffQ",
    "outputId": "5c1092ad-7bd3-45ac-ae67-1eb9627d171b"
   },
   "outputs": [
    {
     "name": "stdout",
     "output_type": "stream",
     "text": [
      "+-----+\n",
      "|churn|\n",
      "+-----+\n",
      "| true|\n",
      "|false|\n",
      "+-----+\n",
      "\n",
      "churn None\n"
     ]
    }
   ],
   "source": [
    "print('churn',df.select('churn').distinct().show())"
   ]
  },
  {
   "cell_type": "code",
   "execution_count": 17,
   "metadata": {
    "id": "yGiBUM_PnNxd"
   },
   "outputs": [],
   "source": [
    "df = df.withColumn('label',F.when(df.churn == 'true', 1)\n",
    "                                   .otherwise(0)\n",
    ")"
   ]
  },
  {
   "cell_type": "code",
   "execution_count": 18,
   "metadata": {
    "colab": {
     "base_uri": "https://localhost:8080/"
    },
    "id": "w5gSTmownN0J",
    "outputId": "7ed19da7-e724-497a-818e-7c172cc0b833"
   },
   "outputs": [
    {
     "name": "stdout",
     "output_type": "stream",
     "text": [
      "+------------------+---------------+---------------------+-----------------+---------------+----------------+-----------------+---------------+----------------+-------------------+-----------------+------------------+------------------+----------------+-----------------+----------------------+-----+--------------------------+-----------------------+-----+\n",
      "|international_plan|voice_mail_plan|number_vmail_messages|total_day_minutes|total_day_calls|total_day_charge|total_eve_minutes|total_eve_calls|total_eve_charge|total_night_minutes|total_night_calls|total_night_charge|total_intl_minutes|total_intl_calls|total_intl_charge|customer_service_calls|churn|indexed_international_plan|indexed_voice_mail_plan|label|\n",
      "+------------------+---------------+---------------------+-----------------+---------------+----------------+-----------------+---------------+----------------+-------------------+-----------------+------------------+------------------+----------------+-----------------+----------------------+-----+--------------------------+-----------------------+-----+\n",
      "|                no|            yes|                   25|            265.1|            110|           45.07|            197.4|             99|           16.78|              244.7|               91|             11.01|              10.0|               3|              2.7|                     1|false|                       0.0|                    1.0|    0|\n",
      "|                no|            yes|                   26|            161.6|            123|           27.47|            195.5|            103|           16.62|              254.4|              103|             11.45|              13.7|               3|              3.7|                     1|false|                       0.0|                    1.0|    0|\n",
      "|                no|             no|                    0|            243.4|            114|           41.38|            121.2|            110|            10.3|              162.6|              104|              7.32|              12.2|               5|             3.29|                     0|false|                       0.0|                    0.0|    0|\n",
      "|               yes|             no|                    0|            299.4|             71|            50.9|             61.9|             88|            5.26|              196.9|               89|              8.86|               6.6|               7|             1.78|                     2|false|                       1.0|                    0.0|    0|\n",
      "|               yes|             no|                    0|            166.7|            113|           28.34|            148.3|            122|           12.61|              186.9|              121|              8.41|              10.1|               3|             2.73|                     3|false|                       1.0|                    0.0|    0|\n",
      "+------------------+---------------+---------------------+-----------------+---------------+----------------+-----------------+---------------+----------------+-------------------+-----------------+------------------+------------------+----------------+-----------------+----------------------+-----+--------------------------+-----------------------+-----+\n",
      "only showing top 5 rows\n",
      "\n"
     ]
    }
   ],
   "source": [
    "df.show(5)"
   ]
  },
  {
   "cell_type": "markdown",
   "metadata": {
    "id": "K5ENSsnVPjU8"
   },
   "source": [
    "# Assembler"
   ]
  },
  {
   "cell_type": "code",
   "execution_count": 19,
   "metadata": {
    "colab": {
     "base_uri": "https://localhost:8080/"
    },
    "id": "BDfbfGI2nN28",
    "outputId": "ad825b39-841d-4d71-e429-a008c9b60320"
   },
   "outputs": [
    {
     "data": {
      "text/plain": [
       "['international_plan',\n",
       " 'voice_mail_plan',\n",
       " 'number_vmail_messages',\n",
       " 'total_day_minutes',\n",
       " 'total_day_calls',\n",
       " 'total_day_charge',\n",
       " 'total_eve_minutes',\n",
       " 'total_eve_calls',\n",
       " 'total_eve_charge',\n",
       " 'total_night_minutes',\n",
       " 'total_night_calls',\n",
       " 'total_night_charge',\n",
       " 'total_intl_minutes',\n",
       " 'total_intl_calls',\n",
       " 'total_intl_charge',\n",
       " 'customer_service_calls',\n",
       " 'churn',\n",
       " 'indexed_international_plan',\n",
       " 'indexed_voice_mail_plan',\n",
       " 'label']"
      ]
     },
     "execution_count": 19,
     "metadata": {},
     "output_type": "execute_result"
    }
   ],
   "source": [
    "df.columns"
   ]
  },
  {
   "cell_type": "code",
   "execution_count": 20,
   "metadata": {
    "id": "UI59H5UdnN6X"
   },
   "outputs": [],
   "source": [
    "assembler = VectorAssembler(inputCols = ['number_vmail_messages',\n",
    " 'total_day_minutes',\n",
    " 'total_day_calls',\n",
    " 'total_day_charge',\n",
    " 'total_eve_minutes',\n",
    " 'total_eve_calls',\n",
    " 'total_eve_charge',\n",
    " 'total_night_minutes',\n",
    " 'total_night_calls',\n",
    " 'total_night_charge',\n",
    " 'total_intl_minutes',\n",
    " 'total_intl_calls',\n",
    " 'total_intl_charge',\n",
    " 'customer_service_calls',\n",
    " 'indexed_international_plan',\n",
    " 'indexed_voice_mail_plan'], outputCol = \"features\")"
   ]
  },
  {
   "cell_type": "code",
   "execution_count": 21,
   "metadata": {
    "colab": {
     "base_uri": "https://localhost:8080/"
    },
    "id": "QFQcPi45nN8v",
    "outputId": "8c97bbfa-9250-4bcf-9284-304b3d0fa23c"
   },
   "outputs": [
    {
     "name": "stdout",
     "output_type": "stream",
     "text": [
      "+-----+--------------------+\n",
      "|label|            features|\n",
      "+-----+--------------------+\n",
      "|    0|[25.0,265.1,110.0...|\n",
      "|    0|[26.0,161.6,123.0...|\n",
      "|    0|[0.0,243.4,114.0,...|\n",
      "|    0|[0.0,299.4,71.0,5...|\n",
      "|    0|[0.0,166.7,113.0,...|\n",
      "|    0|[0.0,223.4,98.0,3...|\n",
      "|    0|[24.0,218.2,88.0,...|\n",
      "|    0|[0.0,157.0,79.0,2...|\n",
      "|    0|[0.0,184.5,97.0,3...|\n",
      "|    0|[37.0,258.6,84.0,...|\n",
      "+-----+--------------------+\n",
      "only showing top 10 rows\n",
      "\n"
     ]
    }
   ],
   "source": [
    "data = assembler.transform(df).select('label','features')\n",
    "data.show(10)"
   ]
  },
  {
   "cell_type": "code",
   "execution_count": 21,
   "metadata": {
    "id": "gJLwx-ebnOAA"
   },
   "outputs": [],
   "source": []
  },
  {
   "cell_type": "markdown",
   "metadata": {
    "id": "cHliFjqCBH8t"
   },
   "source": [
    "# Train Test Split"
   ]
  },
  {
   "cell_type": "code",
   "execution_count": 22,
   "metadata": {
    "id": "HGYNeYylBKT2"
   },
   "outputs": [],
   "source": [
    "train_df, test_df = data.randomSplit( [0.7, 0.3], seed = 42 )"
   ]
  },
  {
   "cell_type": "code",
   "execution_count": 22,
   "metadata": {
    "id": "dP7Pnd3LnOCm"
   },
   "outputs": [],
   "source": []
  },
  {
   "cell_type": "markdown",
   "metadata": {
    "id": "AXU1F330QcGF"
   },
   "source": [
    "# Model Building"
   ]
  },
  {
   "cell_type": "code",
   "execution_count": 23,
   "metadata": {
    "id": "Z21G0JwWnOFf"
   },
   "outputs": [],
   "source": [
    "rfm = RandomForestClassifier(featuresCol=\"features\",\n",
    "                              labelCol=\"label\",\n",
    "                              numTrees=50,\n",
    "                              maxDepth=5,\n",
    "                              featureSubsetStrategy='onethird')\n",
    "rfm = rfm.fit( train_df )"
   ]
  },
  {
   "cell_type": "code",
   "execution_count": 24,
   "metadata": {
    "colab": {
     "base_uri": "https://localhost:8080/"
    },
    "id": "G8cn2E_cnOIa",
    "outputId": "711651b4-995a-4aa8-adff-991ebb6ce3f9"
   },
   "outputs": [
    {
     "name": "stdout",
     "output_type": "stream",
     "text": [
      "+-----+--------------------+--------------------+--------------------+----------+\n",
      "|label|            features|       rawPrediction|         probability|prediction|\n",
      "+-----+--------------------+--------------------+--------------------+----------+\n",
      "|    0|(16,[1,2,3,4,5,6,...|[11.1209852459271...|[0.22241970491854...|       1.0|\n",
      "|    0|[0.0,12.5,67.0,2....|[44.1899395994011...|[0.88379879198802...|       0.0|\n",
      "|    0|[0.0,18.9,92.0,3....|[47.4832204031615...|[0.94966440806323...|       0.0|\n",
      "|    0|[0.0,27.0,117.0,4...|[47.7888926716835...|[0.95577785343367...|       0.0|\n",
      "|    0|[0.0,39.5,78.0,6....|[47.6873466106715...|[0.95374693221343...|       0.0|\n",
      "|    0|[0.0,40.4,105.0,6...|[47.6815658103921...|[0.95363131620784...|       0.0|\n",
      "|    0|[0.0,41.9,124.0,7...|[47.8069707155854...|[0.95613941431170...|       0.0|\n",
      "|    0|[0.0,49.2,121.0,8...|[47.8069707155854...|[0.95613941431170...|       0.0|\n",
      "|    0|[0.0,51.1,106.0,8...|[47.8069707155854...|[0.95613941431170...|       0.0|\n",
      "|    0|[0.0,51.8,107.0,8...|[47.8069707155854...|[0.95613941431170...|       0.0|\n",
      "|    0|[0.0,51.9,108.0,8...|[47.8069707155854...|[0.95613941431170...|       0.0|\n",
      "|    0|[0.0,54.8,92.0,9....|[47.8069707155854...|[0.95613941431170...|       0.0|\n",
      "|    0|[0.0,55.3,102.0,9...|[47.8069707155854...|[0.95613941431170...|       0.0|\n",
      "|    0|[0.0,55.6,65.0,9....|[47.7659386171143...|[0.95531877234228...|       0.0|\n",
      "|    0|[0.0,57.1,98.0,9....|[45.2867493075625...|[0.90573498615125...|       0.0|\n",
      "|    0|[0.0,58.0,125.0,9...|[47.8069707155854...|[0.95613941431170...|       0.0|\n",
      "|    0|[0.0,58.2,96.0,9....|[47.8069707155854...|[0.95613941431170...|       0.0|\n",
      "|    0|[0.0,60.4,158.0,1...|[47.5564171724274...|[0.95112834344854...|       0.0|\n",
      "|    0|[0.0,62.3,92.0,10...|[43.4862358956974...|[0.86972471791394...|       0.0|\n",
      "|    0|[0.0,62.8,124.0,1...|[45.2867493075625...|[0.90573498615125...|       0.0|\n",
      "+-----+--------------------+--------------------+--------------------+----------+\n",
      "only showing top 20 rows\n",
      "\n"
     ]
    }
   ],
   "source": [
    "pred = rfm.transform(test_df)\n",
    "pred.show()"
   ]
  },
  {
   "cell_type": "code",
   "execution_count": 25,
   "metadata": {
    "id": "fby8yaRXnOLM"
   },
   "outputs": [],
   "source": [
    "def train(train, test, classifier):\n",
    "  # (train, test) = df.randomSplit([.7,.3])\n",
    "  print(classifier)\n",
    "  model = classifier.fit(train)\n",
    "\n",
    "  pred = model.transform(test)\n",
    "\n",
    "  eval_accuracy = (MulticlassClassificationEvaluator\n",
    "        (labelCol=\"label\", predictionCol=\"prediction\", metricName=\"accuracy\"))\n",
    "  \n",
    "  eval_precision = (MulticlassClassificationEvaluator\n",
    "        (labelCol=\"label\", predictionCol=\"prediction\", metricName=\"weightedPrecision\"))\n",
    "  \n",
    "  eval_recall = (MulticlassClassificationEvaluator\n",
    "        (labelCol=\"label\", predictionCol=\"prediction\", metricName=\"weightedRecall\"))\n",
    "  \n",
    "  eval_f1 = (MulticlassClassificationEvaluator\n",
    "        (labelCol=\"label\", predictionCol=\"prediction\", metricName=\"f1\"))\n",
    "\n",
    "  accuracy = eval_accuracy.evaluate(pred)\n",
    "\n",
    "  precision =  eval_precision.evaluate(pred)\n",
    "\n",
    "  recall =  eval_recall.evaluate(pred)\n",
    "\n",
    "  f1 =  eval_f1.evaluate(pred)\n",
    "\n",
    "  print(f\"\"\"\n",
    "  Accuracy  = {accuracy}\n",
    "  Error     = {1-accuracy}\n",
    "  Precision = {precision}\n",
    "  Recall    = {recall}\n",
    "  F1        = {f1}\"\"\")\n",
    "\n",
    "  return model, pred"
   ]
  },
  {
   "cell_type": "code",
   "execution_count": 26,
   "metadata": {
    "colab": {
     "base_uri": "https://localhost:8080/"
    },
    "id": "JLO2Qn3snOON",
    "outputId": "865ca113-ca97-4cb6-e605-73123ac04012"
   },
   "outputs": [
    {
     "name": "stdout",
     "output_type": "stream",
     "text": [
      "RandomForestClassifier_efc410ceef32\n",
      "\n",
      "  Accuracy  = 0.9142857142857143\n",
      "  Error     = 0.08571428571428574\n",
      "  Precision = 0.9121152232179115\n",
      "  Recall    = 0.9142857142857143\n",
      "  F1        = 0.9046433261414055\n",
      "+----------+-----+--------------------+\n",
      "|prediction|label|            features|\n",
      "+----------+-----+--------------------+\n",
      "|       1.0|    0|(16,[1,2,3,4,5,6,...|\n",
      "|       0.0|    0|[0.0,12.5,67.0,2....|\n",
      "|       0.0|    0|[0.0,18.9,92.0,3....|\n",
      "|       0.0|    0|[0.0,27.0,117.0,4...|\n",
      "|       0.0|    0|[0.0,39.5,78.0,6....|\n",
      "|       0.0|    0|[0.0,40.4,105.0,6...|\n",
      "|       0.0|    0|[0.0,41.9,124.0,7...|\n",
      "|       0.0|    0|[0.0,49.2,121.0,8...|\n",
      "|       0.0|    0|[0.0,51.1,106.0,8...|\n",
      "|       0.0|    0|[0.0,51.8,107.0,8...|\n",
      "|       0.0|    0|[0.0,51.9,108.0,8...|\n",
      "|       0.0|    0|[0.0,54.8,92.0,9....|\n",
      "|       0.0|    0|[0.0,55.3,102.0,9...|\n",
      "|       0.0|    0|[0.0,55.6,65.0,9....|\n",
      "|       0.0|    0|[0.0,57.1,98.0,9....|\n",
      "|       0.0|    0|[0.0,58.0,125.0,9...|\n",
      "|       0.0|    0|[0.0,58.2,96.0,9....|\n",
      "|       0.0|    0|[0.0,60.4,158.0,1...|\n",
      "|       0.0|    0|[0.0,62.3,92.0,10...|\n",
      "|       0.0|    0|[0.0,62.8,124.0,1...|\n",
      "+----------+-----+--------------------+\n",
      "only showing top 20 rows\n",
      "\n"
     ]
    }
   ],
   "source": [
    "rfm2 = RandomForestClassifier(featuresCol=\"features\",\n",
    "                              labelCol=\"label\",\n",
    "                              numTrees=50,\n",
    "                              maxDepth=5,\n",
    "                              featureSubsetStrategy='onethird')\n",
    "_ , pred2 = train(train_df, test_df, rfm2)\n",
    "\n",
    "pred2.select(\"prediction\", \"label\", \"features\").show()"
   ]
  },
  {
   "cell_type": "code",
   "execution_count": 27,
   "metadata": {
    "id": "6WnlFDswnOSF"
   },
   "outputs": [],
   "source": [
    "summary = rfm.summary"
   ]
  },
  {
   "cell_type": "code",
   "execution_count": 28,
   "metadata": {
    "colab": {
     "base_uri": "https://localhost:8080/"
    },
    "id": "At4h13oynOU8",
    "outputId": "2712c98b-7e18-44bf-e9a8-7eefa7c387f2"
   },
   "outputs": [
    {
     "data": {
      "text/plain": [
       "0.9417922948073701"
      ]
     },
     "execution_count": 28,
     "metadata": {},
     "output_type": "execute_result"
    }
   ],
   "source": [
    "summary.accuracy"
   ]
  },
  {
   "cell_type": "code",
   "execution_count": 29,
   "metadata": {
    "colab": {
     "base_uri": "https://localhost:8080/"
    },
    "id": "hFfIICmkapH4",
    "outputId": "daad5ed5-acc5-4f4f-8661-57ada22909ad"
   },
   "outputs": [
    {
     "name": "stdout",
     "output_type": "stream",
     "text": [
      "Area under ROC or train dataset 0.9357522858071096\n",
      "Area under ROC or test dataset 0.9028822055137848\n"
     ]
    }
   ],
   "source": [
    "print('Area under ROC or train dataset',summary.areaUnderROC)\n",
    "print('Area under ROC or test dataset',BinaryClassificationEvaluator(labelCol=\"label\", rawPredictionCol=\"rawPrediction\", metricName=\"areaUnderROC\").evaluate(pred))"
   ]
  },
  {
   "cell_type": "code",
   "execution_count": 30,
   "metadata": {
    "colab": {
     "base_uri": "https://localhost:8080/"
    },
    "id": "RIMOme96b4r-",
    "outputId": "7312724f-a58f-4842-81a7-9344b163e67e"
   },
   "outputs": [
    {
     "name": "stdout",
     "output_type": "stream",
     "text": [
      "+-----+--------------------+\n",
      "|label|            features|\n",
      "+-----+--------------------+\n",
      "|    0|(16,[1,2,3,4,5,6,...|\n",
      "|    0|[0.0,12.5,67.0,2....|\n",
      "|    0|[0.0,18.9,92.0,3....|\n",
      "|    0|[0.0,27.0,117.0,4...|\n",
      "|    0|[0.0,39.5,78.0,6....|\n",
      "|    0|[0.0,40.4,105.0,6...|\n",
      "|    0|[0.0,41.9,124.0,7...|\n",
      "|    0|[0.0,49.2,121.0,8...|\n",
      "|    0|[0.0,51.1,106.0,8...|\n",
      "|    0|[0.0,51.8,107.0,8...|\n",
      "+-----+--------------------+\n",
      "only showing top 10 rows\n",
      "\n"
     ]
    }
   ],
   "source": [
    "test_df.show(10)"
   ]
  },
  {
   "cell_type": "markdown",
   "metadata": {
    "id": "lhrcxXs_mWdx"
   },
   "source": [
    "# Pipeline"
   ]
  },
  {
   "cell_type": "markdown",
   "metadata": {
    "id": "9FOXl_2XmbqG"
   },
   "source": [
    "## Data Preparation"
   ]
  },
  {
   "cell_type": "code",
   "execution_count": 47,
   "metadata": {
    "id": "I5EgGaZjd_zv"
   },
   "outputs": [],
   "source": [
    "df_2 = spark.read.csv('/content/drive/MyDrive/churn2.csv', header = True, inferSchema = True)\n",
    "\n",
    "df_2 = df_2.select([F.col(col).alias(col.replace(' ', '_')) for col in df_2.columns])\n",
    "df_2 = df_2.drop('account_length','phone_number')\n",
    "df_2 = df_2.drop('State','area_code')\n",
    "\n",
    "# df_2.show()\n",
    "df_2 = df_2.na.drop(subset=[\"churn\"])\n",
    "df_2 = df_2.withColumn('label',F.when(df_2.churn == 'true', 1).otherwise(0))"
   ]
  },
  {
   "cell_type": "markdown",
   "metadata": {
    "id": "yqSTKuWcr5Vo"
   },
   "source": [
    "## Setting Stages for pipelines"
   ]
  },
  {
   "cell_type": "code",
   "execution_count": 48,
   "metadata": {
    "id": "GiuT8Sgbr2rF"
   },
   "outputs": [],
   "source": [
    "# String Indexer cols\n",
    "input_col = ['international_plan','voice_mail_plan']\n",
    "out_col = ['indexed_international_plan','indexed_voice_mail_plan']\n",
    "\n",
    "# Vector Assembler\n",
    "\n",
    "input_cols_vect = ['number_vmail_messages',\n",
    " 'total_day_minutes',\n",
    " 'total_day_calls',\n",
    " 'total_day_charge',\n",
    " 'total_eve_minutes',\n",
    " 'total_eve_calls',\n",
    " 'total_eve_charge',\n",
    " 'total_night_minutes',\n",
    " 'total_night_calls',\n",
    " 'total_night_charge',\n",
    " 'total_intl_minutes',\n",
    " 'total_intl_calls',\n",
    " 'total_intl_charge',\n",
    " 'customer_service_calls',\n",
    " 'indexed_international_plan',\n",
    " 'indexed_voice_mail_plan']"
   ]
  },
  {
   "cell_type": "markdown",
   "metadata": {
    "id": "qFYx-2eBsgEt"
   },
   "source": [
    "# Fixing stage"
   ]
  },
  {
   "cell_type": "code",
   "execution_count": 53,
   "metadata": {
    "id": "8rWcWH59sREI"
   },
   "outputs": [],
   "source": [
    "# String Indexer\n",
    "indexer = StringIndexer(inputCols=input_col, outputCols=out_col) \n",
    "\n",
    "# Vector Assembler\n",
    "assembler = VectorAssembler(inputCols = input_cols_vect, outputCol = \"features\")\n",
    "\n",
    "# ML Model\n",
    "rfm = RandomForestClassifier(featuresCol=\"features\",\n",
    "                              labelCol=\"label\",\n",
    "                              numTrees=50,\n",
    "                              maxDepth=5,\n",
    "                              featureSubsetStrategy='onethird')\n",
    "\n",
    "# Creating Pipeline\n",
    "pipeline = Pipeline( stages= [indexer, assembler, rfm])"
   ]
  },
  {
   "cell_type": "markdown",
   "metadata": {
    "id": "G69rVFlEkC7P"
   },
   "source": [
    "## Train Test split"
   ]
  },
  {
   "cell_type": "code",
   "execution_count": 50,
   "metadata": {
    "id": "mipwNdF6bKT3"
   },
   "outputs": [],
   "source": [
    "train, test = df_2.randomSplit( [0.7, 0.3], seed = 42 )"
   ]
  },
  {
   "cell_type": "markdown",
   "metadata": {
    "id": "esxbn3NrmXOV"
   },
   "source": [
    "# Model Fitting"
   ]
  },
  {
   "cell_type": "code",
   "execution_count": 54,
   "metadata": {
    "id": "U3-BenaXbKYF"
   },
   "outputs": [],
   "source": [
    "model = pipeline.fit(train)\n",
    "y_pred_train = model.transform(train)"
   ]
  },
  {
   "cell_type": "code",
   "execution_count": 55,
   "metadata": {
    "colab": {
     "base_uri": "https://localhost:8080/"
    },
    "id": "WfKEc4rubKav",
    "outputId": "4e39ca17-7291-49ce-8cf4-47af93ab8292"
   },
   "outputs": [
    {
     "name": "stdout",
     "output_type": "stream",
     "text": [
      "+-----+--------------------+----------+\n",
      "|label|            features|prediction|\n",
      "+-----+--------------------+----------+\n",
      "|    1|[0.0,0.0,0.0,0.0,...|       1.0|\n",
      "|    0|[0.0,0.0,0.0,0.0,...|       0.0|\n",
      "|    0|[0.0,7.9,100.0,1....|       0.0|\n",
      "|    0|[0.0,17.6,121.0,2...|       0.0|\n",
      "|    0|[0.0,18.9,92.0,3....|       0.0|\n",
      "|    0|[0.0,34.0,133.0,5...|       0.0|\n",
      "|    0|[0.0,39.5,78.0,6....|       0.0|\n",
      "|    0|[0.0,40.4,105.0,6...|       0.0|\n",
      "|    0|[0.0,41.9,124.0,7...|       0.0|\n",
      "|    0|[0.0,49.2,121.0,8...|       0.0|\n",
      "+-----+--------------------+----------+\n",
      "only showing top 10 rows\n",
      "\n"
     ]
    }
   ],
   "source": [
    "y_pred_train.select('label', 'features', 'prediction').show(10)"
   ]
  },
  {
   "cell_type": "code",
   "execution_count": 56,
   "metadata": {
    "colab": {
     "base_uri": "https://localhost:8080/"
    },
    "id": "CSwV2VahbKdx",
    "outputId": "e765388e-d62b-4c9a-ec45-1fdb7bdbeb8e"
   },
   "outputs": [
    {
     "name": "stdout",
     "output_type": "stream",
     "text": [
      "+-----+--------------------+----------+\n",
      "|label|            features|prediction|\n",
      "+-----+--------------------+----------+\n",
      "|    0|[0.0,7.8,86.0,1.3...|       0.0|\n",
      "|    0|[0.0,27.0,117.0,4...|       0.0|\n",
      "|    0|[0.0,35.1,62.0,5....|       0.0|\n",
      "|    0|[0.0,37.8,80.0,6....|       0.0|\n",
      "|    0|[0.0,45.0,108.0,7...|       0.0|\n",
      "|    0|[0.0,47.4,125.0,8...|       0.0|\n",
      "|    0|[0.0,48.4,101.0,8...|       0.0|\n",
      "|    0|[0.0,51.5,90.0,8....|       0.0|\n",
      "|    0|[0.0,51.9,108.0,8...|       0.0|\n",
      "|    0|[0.0,54.0,68.0,9....|       0.0|\n",
      "+-----+--------------------+----------+\n",
      "only showing top 10 rows\n",
      "\n"
     ]
    }
   ],
   "source": [
    "y_pred_test = model.transform(test)\n",
    "y_pred_test.select('label', 'features', 'prediction').show(10)"
   ]
  },
  {
   "cell_type": "code",
   "execution_count": 32,
   "metadata": {
    "id": "3tFFwAv6d_3a"
   },
   "outputs": [],
   "source": []
  },
  {
   "cell_type": "code",
   "execution_count": 32,
   "metadata": {
    "id": "W2LnH9Ztd_7J"
   },
   "outputs": [],
   "source": []
  },
  {
   "cell_type": "code",
   "execution_count": 32,
   "metadata": {
    "id": "uR-Fbnamd__P"
   },
   "outputs": [],
   "source": []
  },
  {
   "cell_type": "code",
   "execution_count": 32,
   "metadata": {
    "id": "PCFXzb6meACZ"
   },
   "outputs": [],
   "source": []
  },
  {
   "cell_type": "code",
   "execution_count": 32,
   "metadata": {
    "id": "1qyCGmE1eAFr"
   },
   "outputs": [],
   "source": []
  },
  {
   "cell_type": "code",
   "execution_count": 32,
   "metadata": {
    "id": "ftc_lNUteAIh"
   },
   "outputs": [],
   "source": []
  },
  {
   "cell_type": "code",
   "execution_count": 32,
   "metadata": {
    "id": "sShyAdo4eALm"
   },
   "outputs": [],
   "source": []
  },
  {
   "cell_type": "code",
   "execution_count": 32,
   "metadata": {
    "id": "QUlEZejFeAQH"
   },
   "outputs": [],
   "source": []
  },
  {
   "cell_type": "code",
   "execution_count": 32,
   "metadata": {
    "id": "YajVSRm-eATX"
   },
   "outputs": [],
   "source": []
  },
  {
   "cell_type": "code",
   "execution_count": 32,
   "metadata": {
    "id": "nkrn_HTDeAWY"
   },
   "outputs": [],
   "source": []
  },
  {
   "cell_type": "code",
   "execution_count": 32,
   "metadata": {
    "id": "JqMPscPDeAZh"
   },
   "outputs": [],
   "source": []
  },
  {
   "cell_type": "code",
   "execution_count": 32,
   "metadata": {
    "id": "J9S-pdn7eAcg"
   },
   "outputs": [],
   "source": []
  },
  {
   "cell_type": "code",
   "execution_count": 32,
   "metadata": {
    "id": "PGrl_Rb4eAge"
   },
   "outputs": [],
   "source": []
  },
  {
   "cell_type": "code",
   "execution_count": 32,
   "metadata": {
    "id": "0QopgS6QeAjp"
   },
   "outputs": [],
   "source": []
  },
  {
   "cell_type": "code",
   "execution_count": 32,
   "metadata": {
    "id": "3Eock5B2eAm0"
   },
   "outputs": [],
   "source": []
  }
 ],
 "metadata": {
  "colab": {
   "collapsed_sections": [],
   "name": "Customer Churn Prediction.ipynb",
   "provenance": []
  },
  "kernelspec": {
   "display_name": "Python 3 (ipykernel)",
   "language": "python",
   "name": "python3"
  },
  "language_info": {
   "codemirror_mode": {
    "name": "ipython",
    "version": 3
   },
   "file_extension": ".py",
   "mimetype": "text/x-python",
   "name": "python",
   "nbconvert_exporter": "python",
   "pygments_lexer": "ipython3",
   "version": "3.8.12"
  }
 },
 "nbformat": 4,
 "nbformat_minor": 1
}
